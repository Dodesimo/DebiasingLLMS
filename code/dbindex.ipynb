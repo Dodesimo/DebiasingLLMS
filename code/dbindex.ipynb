{
 "cells": [
  {
   "cell_type": "markdown",
   "id": "8e9b59a1-d769-4726-b5f4-ff7aa382322c",
   "metadata": {
    "collapsed": true,
    "jupyter": {
     "outputs_hidden": true
    }
   },
   "source": [
    "<h1>db-index, new way to measure dataset bias</h1>"
   ]
  },
  {
   "cell_type": "code",
   "execution_count": 3,
   "id": "044a9cbd-92ab-400b-80dd-17c89a291b80",
   "metadata": {},
   "outputs": [],
   "source": [
    "from datasets import load_dataset\n",
    "import spacyindex"
   ]
  },
  {
   "cell_type": "code",
   "execution_count": 5,
   "id": "ad14cdf1-83bd-434c-8663-f53a0bc762d4",
   "metadata": {},
   "outputs": [
    {
     "data": {
      "text/plain": [
       "DatasetDict({\n",
       "    train: Dataset({\n",
       "        features: ['report', 'summary'],\n",
       "        num_rows: 17517\n",
       "    })\n",
       "    validation: Dataset({\n",
       "        features: ['report', 'summary'],\n",
       "        num_rows: 973\n",
       "    })\n",
       "    test: Dataset({\n",
       "        features: ['report', 'summary'],\n",
       "        num_rows: 973\n",
       "    })\n",
       "})"
      ]
     },
     "execution_count": 5,
     "metadata": {},
     "output_type": "execute_result"
    }
   ],
   "source": [
    "dataset = load_dataset(\"ccdv/govreport-summarization\")\n",
    "dataset"
   ]
  },
  {
   "cell_type": "code",
   "execution_count": 14,
   "id": "e6308c8d-a2ab-4a80-a38d-da0f0e8d7e0f",
   "metadata": {},
   "outputs": [
    {
     "data": {
      "text/html": [
       "<div>\n",
       "<style scoped>\n",
       "    .dataframe tbody tr th:only-of-type {\n",
       "        vertical-align: middle;\n",
       "    }\n",
       "\n",
       "    .dataframe tbody tr th {\n",
       "        vertical-align: top;\n",
       "    }\n",
       "\n",
       "    .dataframe thead th {\n",
       "        text-align: right;\n",
       "    }\n",
       "</style>\n",
       "<table border=\"1\" class=\"dataframe\">\n",
       "  <thead>\n",
       "    <tr style=\"text-align: right;\">\n",
       "      <th></th>\n",
       "      <th>report</th>\n",
       "    </tr>\n",
       "  </thead>\n",
       "  <tbody>\n",
       "    <tr>\n",
       "      <th>0</th>\n",
       "      <td>Most income derived from private sector busine...</td>\n",
       "    </tr>\n",
       "    <tr>\n",
       "      <th>1</th>\n",
       "      <td>There are some similarities in how Medicare pa...</td>\n",
       "    </tr>\n",
       "    <tr>\n",
       "      <th>2</th>\n",
       "      <td>IRS’s mission is to provide America’s taxpayer...</td>\n",
       "    </tr>\n",
       "    <tr>\n",
       "      <th>3</th>\n",
       "      <td>In 1991, we reported that, historically, INS l...</td>\n",
       "    </tr>\n",
       "    <tr>\n",
       "      <th>4</th>\n",
       "      <td>While TCE and perchlorate are both DOD-classif...</td>\n",
       "    </tr>\n",
       "    <tr>\n",
       "      <th>...</th>\n",
       "      <td>...</td>\n",
       "    </tr>\n",
       "    <tr>\n",
       "      <th>17511</th>\n",
       "      <td>Some Members of Congress have expressed intere...</td>\n",
       "    </tr>\n",
       "    <tr>\n",
       "      <th>17512</th>\n",
       "      <td>Since November 1986, the Commemorative Works A...</td>\n",
       "    </tr>\n",
       "    <tr>\n",
       "      <th>17513</th>\n",
       "      <td>On May 27, 2015, the Army Corps of Engineers (...</td>\n",
       "    </tr>\n",
       "    <tr>\n",
       "      <th>17514</th>\n",
       "      <td>Section 1512 applies to the obstruction of fed...</td>\n",
       "    </tr>\n",
       "    <tr>\n",
       "      <th>17515</th>\n",
       "      <td>Medicaid is a federal-state entitlement progra...</td>\n",
       "    </tr>\n",
       "  </tbody>\n",
       "</table>\n",
       "<p>17516 rows × 1 columns</p>\n",
       "</div>"
      ],
      "text/plain": [
       "                                                  report\n",
       "0      Most income derived from private sector busine...\n",
       "1      There are some similarities in how Medicare pa...\n",
       "2      IRS’s mission is to provide America’s taxpayer...\n",
       "3      In 1991, we reported that, historically, INS l...\n",
       "4      While TCE and perchlorate are both DOD-classif...\n",
       "...                                                  ...\n",
       "17511  Some Members of Congress have expressed intere...\n",
       "17512  Since November 1986, the Commemorative Works A...\n",
       "17513  On May 27, 2015, the Army Corps of Engineers (...\n",
       "17514  Section 1512 applies to the obstruction of fed...\n",
       "17515  Medicaid is a federal-state entitlement progra...\n",
       "\n",
       "[17516 rows x 1 columns]"
      ]
     },
     "execution_count": 14,
     "metadata": {},
     "output_type": "execute_result"
    }
   ],
   "source": [
    "dataset.set_format(type='pandas')\n",
    "targetdset = dataset['train'][1:]\n",
    "targetdset.drop(['summary'], axis=1)"
   ]
  },
  {
   "cell_type": "markdown",
   "id": "e79be650-b1df-46e8-adbb-b0f4b6b7ef2f",
   "metadata": {},
   "source": [
    "Dataset sanitized. Let's get a sample dataset of offensive language"
   ]
  },
  {
   "cell_type": "code",
   "execution_count": 16,
   "id": "95a9d6c4-1a6f-4a11-8a45-bbb857e7d2f2",
   "metadata": {},
   "outputs": [
    {
     "data": {
      "application/vnd.jupyter.widget-view+json": {
       "model_id": "b6c6ec142a694291b4142269bd58d2c1",
       "version_major": 2,
       "version_minor": 0
      },
      "text/plain": [
       "Downloading metadata:   0%|          | 0.00/886 [00:00<?, ?B/s]"
      ]
     },
     "metadata": {},
     "output_type": "display_data"
    },
    {
     "data": {
      "application/vnd.jupyter.widget-view+json": {
       "model_id": "c91b6f5769f7410eb7a62fea35798f91",
       "version_major": 2,
       "version_minor": 0
      },
      "text/plain": [
       "Downloading data files:   0%|          | 0/2 [00:00<?, ?it/s]"
      ]
     },
     "metadata": {},
     "output_type": "display_data"
    },
    {
     "data": {
      "application/vnd.jupyter.widget-view+json": {
       "model_id": "31e34e034f1c479eba073443a3736f25",
       "version_major": 2,
       "version_minor": 0
      },
      "text/plain": [
       "Downloading data:   0%|          | 0.00/54.2k [00:00<?, ?B/s]"
      ]
     },
     "metadata": {},
     "output_type": "display_data"
    },
    {
     "data": {
      "application/vnd.jupyter.widget-view+json": {
       "model_id": "83dc72e1af1e47599009a25dba20536f",
       "version_major": 2,
       "version_minor": 0
      },
      "text/plain": [
       "Downloading data:   0%|          | 0.00/17.1k [00:00<?, ?B/s]"
      ]
     },
     "metadata": {},
     "output_type": "display_data"
    },
    {
     "data": {
      "application/vnd.jupyter.widget-view+json": {
       "model_id": "a731f03f9f574f19997a13d1cdc3b352",
       "version_major": 2,
       "version_minor": 0
      },
      "text/plain": [
       "Extracting data files:   0%|          | 0/2 [00:00<?, ?it/s]"
      ]
     },
     "metadata": {},
     "output_type": "display_data"
    },
    {
     "data": {
      "application/vnd.jupyter.widget-view+json": {
       "model_id": "30c60880e7914ae9aa4bf5feb59685eb",
       "version_major": 2,
       "version_minor": 0
      },
      "text/plain": [
       "Generating train split:   0%|          | 0/1009 [00:00<?, ? examples/s]"
      ]
     },
     "metadata": {},
     "output_type": "display_data"
    },
    {
     "data": {
      "application/vnd.jupyter.widget-view+json": {
       "model_id": "ef0ac9d3a808476690d4cd79130b00de",
       "version_major": 2,
       "version_minor": 0
      },
      "text/plain": [
       "Generating test split:   0%|          | 0/253 [00:00<?, ? examples/s]"
      ]
     },
     "metadata": {},
     "output_type": "display_data"
    }
   ],
   "source": [
    "offensivedataset = load_dataset(\"henryscheible/implicit_bias\")"
   ]
  },
  {
   "cell_type": "code",
   "execution_count": 20,
   "id": "1e04a8a6-46c0-4b5d-8629-243234b42a8a",
   "metadata": {},
   "outputs": [
    {
     "data": {
      "text/html": [
       "<div>\n",
       "<style scoped>\n",
       "    .dataframe tbody tr th:only-of-type {\n",
       "        vertical-align: middle;\n",
       "    }\n",
       "\n",
       "    .dataframe tbody tr th {\n",
       "        vertical-align: top;\n",
       "    }\n",
       "\n",
       "    .dataframe thead th {\n",
       "        text-align: right;\n",
       "    }\n",
       "</style>\n",
       "<table border=\"1\" class=\"dataframe\">\n",
       "  <thead>\n",
       "    <tr style=\"text-align: right;\">\n",
       "      <th></th>\n",
       "      <th>sentence</th>\n",
       "    </tr>\n",
       "  </thead>\n",
       "  <tbody>\n",
       "    <tr>\n",
       "      <th>0</th>\n",
       "      <td>They are Asians. I don't want to invite too ma...</td>\n",
       "    </tr>\n",
       "    <tr>\n",
       "      <th>1</th>\n",
       "      <td>They are Queer. Why do all gay men have to be ...</td>\n",
       "    </tr>\n",
       "    <tr>\n",
       "      <th>2</th>\n",
       "      <td>They are OldPeople. All Middle Easterners are ...</td>\n",
       "    </tr>\n",
       "    <tr>\n",
       "      <th>3</th>\n",
       "      <td>They are Females. She's always so put together...</td>\n",
       "    </tr>\n",
       "    <tr>\n",
       "      <th>4</th>\n",
       "      <td>They are Christans. I don't understand how you...</td>\n",
       "    </tr>\n",
       "    <tr>\n",
       "      <th>...</th>\n",
       "      <td>...</td>\n",
       "    </tr>\n",
       "    <tr>\n",
       "      <th>1003</th>\n",
       "      <td>They are MiddleEastern. I saw a group of Middl...</td>\n",
       "    </tr>\n",
       "    <tr>\n",
       "      <th>1004</th>\n",
       "      <td>They are Asians. Oh, my grandpa doesn't even k...</td>\n",
       "    </tr>\n",
       "    <tr>\n",
       "      <th>1005</th>\n",
       "      <td>They are Queer. I can't believe she's still tr...</td>\n",
       "    </tr>\n",
       "    <tr>\n",
       "      <th>1006</th>\n",
       "      <td>They are Whites. Oh, you're white, so you prob...</td>\n",
       "    </tr>\n",
       "    <tr>\n",
       "      <th>1007</th>\n",
       "      <td>They are Christans. I heard that church is jus...</td>\n",
       "    </tr>\n",
       "  </tbody>\n",
       "</table>\n",
       "<p>1008 rows × 1 columns</p>\n",
       "</div>"
      ],
      "text/plain": [
       "                                               sentence\n",
       "0     They are Asians. I don't want to invite too ma...\n",
       "1     They are Queer. Why do all gay men have to be ...\n",
       "2     They are OldPeople. All Middle Easterners are ...\n",
       "3     They are Females. She's always so put together...\n",
       "4     They are Christans. I don't understand how you...\n",
       "...                                                 ...\n",
       "1003  They are MiddleEastern. I saw a group of Middl...\n",
       "1004  They are Asians. Oh, my grandpa doesn't even k...\n",
       "1005  They are Queer. I can't believe she's still tr...\n",
       "1006  They are Whites. Oh, you're white, so you prob...\n",
       "1007  They are Christans. I heard that church is jus...\n",
       "\n",
       "[1008 rows x 1 columns]"
      ]
     },
     "execution_count": 20,
     "metadata": {},
     "output_type": "execute_result"
    }
   ],
   "source": [
    "offensivedataset.set_format(type='pandas')\n",
    "compdataset = offensivedataset['train'][1:]\n",
    "compdataset.drop(['category', 'label'], axis = 1)"
   ]
  },
  {
   "cell_type": "markdown",
   "id": "e327e263-324d-4a90-9623-87a26842ecb3",
   "metadata": {},
   "source": []
  }
 ],
 "metadata": {
  "kernelspec": {
   "display_name": "Python 3 (ipykernel)",
   "language": "python",
   "name": "python3"
  },
  "language_info": {
   "codemirror_mode": {
    "name": "ipython",
    "version": 3
   },
   "file_extension": ".py",
   "mimetype": "text/x-python",
   "name": "python",
   "nbconvert_exporter": "python",
   "pygments_lexer": "ipython3",
   "version": "3.11.4"
  }
 },
 "nbformat": 4,
 "nbformat_minor": 5
}
