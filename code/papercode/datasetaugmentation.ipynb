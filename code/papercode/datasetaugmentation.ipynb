{
 "cells": [
  {
   "cell_type": "code",
   "execution_count": 1,
   "id": "initial_id",
   "metadata": {
    "is_executing": true
   },
   "outputs": [],
   "source": [
    "import pandas as pd\n",
    "import nlpaug.augmenter.char as nac\n",
    "import nlpaug.augmenter.word as naw\n",
    "import nlpaug.augmenter.sentence as nas\n",
    "import nlpaug.flow as nafc\n",
    "import torch\n",
    "import os\n",
    "from datasets import load_dataset \n",
    "from nlpaug.util import Action\n",
    "import spacy \n",
    "from spacy import displacy\n",
    "from langchain.llms import OpenAI\n",
    "from getpass import getpass"
   ]
  },
  {
   "cell_type": "code",
   "execution_count": 2,
   "id": "58e7a79f-cb80-4b49-9564-f2d6ccd5d93f",
   "metadata": {},
   "outputs": [],
   "source": [
    "bias_elements = [\n",
    "    \"African\",\n",
    "    \"Afro-Caribbean\",\n",
    "    \"Afro-Latino\",\n",
    "    \"Ainu\",\n",
    "    \"Amazigh\",\n",
    "    \"Ashkenazi Jewish\",\n",
    "    \"Australian Aboriginal\",\n",
    "    \"Basque\",\n",
    "    \"Bantu\",\n",
    "    \"Bengali\",\n",
    "    \"Berber\",\n",
    "    \"Black\",\n",
    "    \"Chinese\",\n",
    "    \"Cree\",\n",
    "    \"Cuban\",\n",
    "    \"Druze\",\n",
    "    \"Dutch\",\n",
    "    \"English\",\n",
    "    \"Filipino\",\n",
    "    \"Finnish\",\n",
    "    \"French\",\n",
    "    \"Gaelic\",\n",
    "    \"German\",\n",
    "    \"Greek\",\n",
    "    \"Guatemalan\",\n",
    "    \"Han Chinese\",\n",
    "    \"Hausa\",\n",
    "    \"Hawaiian\",\n",
    "    \"Hispanic/Latino\",\n",
    "    \"Hmong\",\n",
    "    \"Hopi\",\n",
    "    \"Inuit\",\n",
    "    \"Italian\",\n",
    "    \"Japanese\",\n",
    "    \"Jewish\",\n",
    "    \"Karen\",\n",
    "    \"Khmer\",\n",
    "    \"Korean\",\n",
    "    \"Maori\",\n",
    "    \"Maya\",\n",
    "    \"Mongolian\",\n",
    "    \"Native American\",\n",
    "    \"Nigerian\",\n",
    "    \"Nubian\",\n",
    "    \"Pashtun\",\n",
    "    \"Persian\",\n",
    "    \"Quechua\",\n",
    "    \"Romani\",\n",
    "    \"Sami\",\n",
    "    \"Somali\",\n",
    "    \"Tajik\",\n",
    "    \"Tamil\",\n",
    "    \"Tatar\",\n",
    "    \"Thai\",\n",
    "    \"Tibetan\",\n",
    "    \"Tuareg\",\n",
    "    \"Turkish\",\n",
    "    \"Uighur\",\n",
    "    \"Ukrainian\",\n",
    "    \"Vietnamese\",\n",
    "    \"Yakut\",\n",
    "    \"Yoruba\",\n",
    "    \"Zulu\",\n",
    "    \"Albanian\",\n",
    "    \"Arab\",\n",
    "    \"Armenian\",\n",
    "    \"Assyrian\",\n",
    "    \"Aymara\",\n",
    "    \"Balinese\",\n",
    "    \"Bashkir\",\n",
    "    \"Belizean\",\n",
    "    \"Bolivian\",\n",
    "    \"Bosniak\",\n",
    "    \"Bulgarian\",\n",
    "    \"Cambodian\",\n",
    "    \"Cameroonian\",\n",
    "    \"Catalan\",\n",
    "    \"Chamorro\",\n",
    "    \"Chechen\",\n",
    "    \"Cherokee\",\n",
    "    \"Chuvash\",\n",
    "    \"Coptic\",\n",
    "    \"Corsican\",\n",
    "    \"Crimean Tatar\",\n",
    "    \"Croatian\",\n",
    "    \"Czech\",\n",
    "    \"Danish\",\n",
    "    \"Dinka\",\n",
    "    \"Ecuadorian\",\n",
    "    \"Estonian\",\n",
    "    \"Ethiopian\",\n",
    "    \"Fijian\",\n",
    "    \"Georgian\",\n",
    "    \"Gujarati\",\n",
    "    \"Haitian\",\n",
    "    \"Hazaras\",\n",
    "    \"Ibo\",\n",
    "    \"Icelandic\",\n",
    "    \"Indigenous Australian\",\n",
    "    \"Indigenous Malaysian\",\n",
    "    \"Iraqi\",\n",
    "    \"Iroquois\",\n",
    "    \"Kurdish\",\n",
    "    \"Latvian\",\n",
    "    \"Lebanese\",\n",
    "    \"Lithuanian\",\n",
    "    \"Macedonian\",\n",
    "    \"Malay\",\n",
    "    \"Maldivian\",\n",
    "    \"Maltese\",\n",
    "    \"Maasai\",\n",
    "    \"Mende\",\n",
    "    \"Mien\",\n",
    "    \"Mizrahi Jewish\",\n",
    "    \"Monguor\",\n",
    "    \"Moroccan\",\n",
    "    \"Navajo\",\n",
    "    \"Nenets\",\n",
    "    \"Nepali\",\n",
    "    \"Norwegian\",\n",
    "    \"Pakistani\",\n",
    "    \"Palestinian\",\n",
    "    \"Papua New Guinean\",\n",
    "    \"Parsi\",\n",
    "    \"Peruvian\",\n",
    "    \"Polish\",\n",
    "    \"Portuguese\",\n",
    "    \"Punjabi\",\n",
    "    \"Roma\",\n",
    "    \"Samoan\",\n",
    "    \"Scots\",\n",
    "    \"Sindhi\",\n",
    "    \"Slovak\",\n",
    "    \"Slovene\",\n",
    "    \"Sorbian\",\n",
    "    \"Sudanese\",\n",
    "    \"Swedish\",\n",
    "]"
   ]
  },
  {
   "cell_type": "code",
   "execution_count": 3,
   "id": "339fe6f6-ec83-48e0-863a-111993bcf053",
   "metadata": {},
   "outputs": [
    {
     "name": "stderr",
     "output_type": "stream",
     "text": [
      "/home/devam/.local/lib/python3.8/site-packages/datasets/table.py:1421: FutureWarning: promote has been superseded by mode='default'.\n",
      "  table = cls._concat_blocks(blocks, axis=0)\n"
     ]
    },
    {
     "data": {
      "text/plain": [
       "DatasetDict({\n",
       "    train: Dataset({\n",
       "        features: ['report', 'summary'],\n",
       "        num_rows: 17517\n",
       "    })\n",
       "    validation: Dataset({\n",
       "        features: ['report', 'summary'],\n",
       "        num_rows: 973\n",
       "    })\n",
       "    test: Dataset({\n",
       "        features: ['report', 'summary'],\n",
       "        num_rows: 973\n",
       "    })\n",
       "})"
      ]
     },
     "execution_count": 3,
     "metadata": {},
     "output_type": "execute_result"
    }
   ],
   "source": [
    "base_dataset = load_dataset(\"ccdv/govreport-summarization\")\n",
    "base_dataset"
   ]
  },
  {
   "cell_type": "markdown",
   "id": "3ddcd03e-b8eb-45b9-9024-b38aad5985dc",
   "metadata": {},
   "source": [
    "Procedure:\n",
    "- Iterate through each data entry, and do spaCy named entity recognition for race.\n",
    "- Once found, take entry, and copy in word from list of bias elements to generate new entry.\n",
    "- Each entry will then be augmented in size "
   ]
  },
  {
   "cell_type": "code",
   "execution_count": 4,
   "id": "d0fabfea-46c4-4b89-a526-0c17dfed026c",
   "metadata": {},
   "outputs": [],
   "source": [
    "ner = spacy.load(\"en_core_web_lg\")"
   ]
  },
  {
   "cell_type": "code",
   "execution_count": 5,
   "id": "068ce9b9-b7b2-4726-aa66-48d20d5527be",
   "metadata": {},
   "outputs": [],
   "source": [
    "text = \"I hate Indians\""
   ]
  },
  {
   "cell_type": "code",
   "execution_count": 6,
   "id": "0abb7f56-9a5a-4ae2-8a67-d97d84b95e31",
   "metadata": {},
   "outputs": [],
   "source": [
    "seg = ner(text)"
   ]
  },
  {
   "cell_type": "code",
   "execution_count": 7,
   "id": "8bdcf37c-c93e-43d8-b060-836409453a98",
   "metadata": {},
   "outputs": [
    {
     "name": "stdout",
     "output_type": "stream",
     "text": [
      "Indians NORP\n"
     ]
    }
   ],
   "source": [
    "for word in seg.ents:\n",
    "    print(word.text, word.label_)"
   ]
  },
  {
   "cell_type": "code",
   "execution_count": 8,
   "id": "ba9eac07-6576-403e-b397-4ee3705d51ab",
   "metadata": {},
   "outputs": [
    {
     "data": {
      "text/plain": [
       "'Nationalities or religious or political groups'"
      ]
     },
     "execution_count": 8,
     "metadata": {},
     "output_type": "execute_result"
    }
   ],
   "source": [
    "spacy.explain(\"NORP\")"
   ]
  },
  {
   "cell_type": "code",
   "execution_count": 9,
   "id": "1b4b66d1-a21d-4631-8354-c4eaa0cb0098",
   "metadata": {},
   "outputs": [],
   "source": [
    "base_dataset.set_format(type='pandas')\n",
    "\n",
    "df = base_dataset['train'][:1]"
   ]
  },
  {
   "cell_type": "code",
   "execution_count": 10,
   "id": "61f29030-e602-458a-8fea-a13b84980798",
   "metadata": {},
   "outputs": [],
   "source": [
    "df = df.drop(['summary'], axis=1)"
   ]
  },
  {
   "cell_type": "code",
   "execution_count": 11,
   "id": "2d6a93f6-99a9-455e-9076-9926b62835da",
   "metadata": {},
   "outputs": [],
   "source": [
    "def dataSplit(dset):\n",
    "    \n",
    "    chunk_size = 512\n",
    "    splitList = []\n",
    "    \n",
    "    for entry in dset.report:\n",
    "        \n",
    "        for i in range(0, len(entry), chunk_size):\n",
    "            chunk = entry[i:i + chunk_size]\n",
    "            splitList.append(chunk)\n",
    "\n",
    "    sp = pd.DataFrame(splitList)\n",
    "    sp.columns = ['report']\n",
    "    return sp"
   ]
  },
  {
   "cell_type": "code",
   "execution_count": 12,
   "id": "6d5a6ca1-2aaa-47f7-ae7c-bca2281046ec",
   "metadata": {},
   "outputs": [],
   "source": [
    "def datasetAugmentation(df):\n",
    "\n",
    "    subData = dataSplit(df)\n",
    "\n",
    "    #Initialize summarizer\n",
    "    sum = nas.AbstSummAug(model_path='facebook/bart-large-cnn')\n",
    "\n",
    "    #Initialize sentence augmentation\n",
    "    aug = naw.ContextualWordEmbsAug(model_path='distilroberta-base', aug_p = 100)\n",
    "    \n",
    "    #Iterate throguh each entry.\n",
    "    for entry in subData.report:\n",
    "\n",
    "        #for each entry do Named Entity Recognition on each word\n",
    "        seg = ner(entry)\n",
    "\n",
    "        #find if any of the words pertain to a race\n",
    "        for word in seg.ents:\n",
    "            \n",
    "            if word.label_ == \"NORP\":\n",
    "\n",
    "                #if a word pertains to race, substitute in each entry of the bias elements\n",
    "                for race in bias_elements:\n",
    "                    newEntry = entry.replace(word.text, race)\n",
    "                    subData.loc[len(subData.index)] = newEntry\n",
    "\n",
    "                    #Do content downshift through summarization of new entry (abstractive summarization), and add\n",
    "                    newEntrySum = sum.augment(newEntry)\n",
    "                    subData.loc[len(subData.index)] = newEntrySum\n",
    "\n",
    "                    #Do vocabulary upshift through augmentation, and add \n",
    "                    newEntryComp = aug.augment(newEntry)\n",
    "                    subData.loc[len(subData.index)] = newEntryComp\n",
    "\n",
    "\n",
    "    return subData"
   ]
  },
  {
   "cell_type": "code",
   "execution_count": 13,
   "id": "f131f19f-e5b7-4b28-a6c1-b2e83b92b33e",
   "metadata": {},
   "outputs": [],
   "source": [
    "l = ['i think African-Americans people are stupid']\n",
    "oE = pd.DataFrame(l)\n",
    "oE.columns = ['report']"
   ]
  },
  {
   "cell_type": "code",
   "execution_count": 14,
   "id": "039b471f-d460-4175-835c-ebf656af97d3",
   "metadata": {},
   "outputs": [
    {
     "name": "stdout",
     "output_type": "stream",
     "text": [
      "African-Americans NORP\n"
     ]
    }
   ],
   "source": [
    "seg = ner(l[0])\n",
    "for word in seg.ents:\n",
    "    print(word.text, word.label_)"
   ]
  },
  {
   "cell_type": "code",
   "execution_count": 15,
   "id": "e1b83572-71dc-4084-89b8-9ba8fe54979d",
   "metadata": {},
   "outputs": [],
   "source": [
    "data = datasetAugmentation(oE)"
   ]
  },
  {
   "cell_type": "code",
   "execution_count": 16,
   "id": "5279b9a1-2040-4b08-8262-37550fabcc22",
   "metadata": {},
   "outputs": [
    {
     "data": {
      "text/html": [
       "<div>\n",
       "<style scoped>\n",
       "    .dataframe tbody tr th:only-of-type {\n",
       "        vertical-align: middle;\n",
       "    }\n",
       "\n",
       "    .dataframe tbody tr th {\n",
       "        vertical-align: top;\n",
       "    }\n",
       "\n",
       "    .dataframe thead th {\n",
       "        text-align: right;\n",
       "    }\n",
       "</style>\n",
       "<table border=\"1\" class=\"dataframe\">\n",
       "  <thead>\n",
       "    <tr style=\"text-align: right;\">\n",
       "      <th></th>\n",
       "      <th>report</th>\n",
       "    </tr>\n",
       "  </thead>\n",
       "  <tbody>\n",
       "    <tr>\n",
       "      <th>0</th>\n",
       "      <td>i think African-Americans people are stupid</td>\n",
       "    </tr>\n",
       "    <tr>\n",
       "      <th>1</th>\n",
       "      <td>i think African people are stupid</td>\n",
       "    </tr>\n",
       "    <tr>\n",
       "      <th>2</th>\n",
       "      <td>i think African people are stupid. i think Afr...</td>\n",
       "    </tr>\n",
       "    <tr>\n",
       "      <th>3</th>\n",
       "      <td>i opinion younger rappers need idiots</td>\n",
       "    </tr>\n",
       "    <tr>\n",
       "      <th>4</th>\n",
       "      <td>i think Afro-Caribbean people are stupid</td>\n",
       "    </tr>\n",
       "    <tr>\n",
       "      <th>...</th>\n",
       "      <td>...</td>\n",
       "    </tr>\n",
       "    <tr>\n",
       "      <th>407</th>\n",
       "      <td>i think Sudanese people are stupid. i think th...</td>\n",
       "    </tr>\n",
       "    <tr>\n",
       "      <th>408</th>\n",
       "      <td>i because some babies eat nuts</td>\n",
       "    </tr>\n",
       "    <tr>\n",
       "      <th>409</th>\n",
       "      <td>i think Swedish people are stupid</td>\n",
       "    </tr>\n",
       "    <tr>\n",
       "      <th>410</th>\n",
       "      <td>i think Swedish people are stupid. i think Swe...</td>\n",
       "    </tr>\n",
       "    <tr>\n",
       "      <th>411</th>\n",
       "      <td>i says ignorant Muslims got racist</td>\n",
       "    </tr>\n",
       "  </tbody>\n",
       "</table>\n",
       "<p>412 rows × 1 columns</p>\n",
       "</div>"
      ],
      "text/plain": [
       "                                                report\n",
       "0          i think African-Americans people are stupid\n",
       "1                    i think African people are stupid\n",
       "2    i think African people are stupid. i think Afr...\n",
       "3                i opinion younger rappers need idiots\n",
       "4             i think Afro-Caribbean people are stupid\n",
       "..                                                 ...\n",
       "407  i think Sudanese people are stupid. i think th...\n",
       "408                     i because some babies eat nuts\n",
       "409                  i think Swedish people are stupid\n",
       "410  i think Swedish people are stupid. i think Swe...\n",
       "411                 i says ignorant Muslims got racist\n",
       "\n",
       "[412 rows x 1 columns]"
      ]
     },
     "execution_count": 16,
     "metadata": {},
     "output_type": "execute_result"
    }
   ],
   "source": [
    "data"
   ]
  },
  {
   "cell_type": "code",
   "execution_count": null,
   "id": "87cf7ac4-ad88-4b40-a02b-f42256ff79d7",
   "metadata": {},
   "outputs": [],
   "source": []
  }
 ],
 "metadata": {
  "kernelspec": {
   "display_name": "Python 3.8 (ipykernel)",
   "language": "python",
   "name": "python3"
  },
  "language_info": {
   "codemirror_mode": {
    "name": "ipython",
    "version": 3
   },
   "file_extension": ".py",
   "mimetype": "text/x-python",
   "name": "python",
   "nbconvert_exporter": "python",
   "pygments_lexer": "ipython3",
   "version": "3.8.16"
  }
 },
 "nbformat": 4,
 "nbformat_minor": 5
}
