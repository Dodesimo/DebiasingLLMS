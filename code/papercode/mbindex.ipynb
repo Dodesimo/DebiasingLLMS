{
 "cells": [
  {
   "cell_type": "markdown",
   "id": "24ca9c03-bbbc-4482-b025-1ddf14cb45cd",
   "metadata": {
    "collapsed": true,
    "jupyter": {
     "outputs_hidden": true
    }
   },
   "source": [
    "<h1>mbindex, a new way to assess model bias with respect to performance </h1>"
   ]
  },
  {
   "cell_type": "code",
   "execution_count": 8,
   "id": "eb603bc4-fdbd-46ae-a564-68f375663109",
   "metadata": {},
   "outputs": [
    {
     "ename": "ModuleNotFoundError",
     "evalue": "No module named 'biasbench'",
     "output_type": "error",
     "traceback": [
      "\u001b[0;31m---------------------------------------------------------------------------\u001b[0m",
      "\u001b[0;31mModuleNotFoundError\u001b[0m                       Traceback (most recent call last)",
      "Cell \u001b[0;32mIn[8], line 1\u001b[0m\n\u001b[0;32m----> 1\u001b[0m \u001b[38;5;28;01mfrom\u001b[39;00m \u001b[38;5;21;01mbiasbench\u001b[39;00m\u001b[38;5;21;01m.\u001b[39;00m\u001b[38;5;21;01mbenchmark\u001b[39;00m\u001b[38;5;21;01m.\u001b[39;00m\u001b[38;5;21;01mstereoset\u001b[39;00m\u001b[38;5;21;01m.\u001b[39;00m\u001b[38;5;21;01mstereoset\u001b[39;00m\u001b[38;5;21;01m.\u001b[39;00m\u001b[38;5;21;01mpy\u001b[39;00m \u001b[38;5;28;01mimport\u001b[39;00m StereoSetRunner\n",
      "\u001b[0;31mModuleNotFoundError\u001b[0m: No module named 'biasbench'"
     ]
    }
   ],
   "source": [
    "from biasbench.benchmark.stereoset.stereoset.py import StereoSetRunner"
   ]
  },
  {
   "cell_type": "code",
   "execution_count": null,
   "id": "5ccf6fd9-8245-40b5-b3c7-79e81a3596c4",
   "metadata": {},
   "outputs": [],
   "source": []
  }
 ],
 "metadata": {
  "kernelspec": {
   "display_name": "Python 3 (ipykernel)",
   "language": "python",
   "name": "python3"
  },
  "language_info": {
   "codemirror_mode": {
    "name": "ipython",
    "version": 3
   },
   "file_extension": ".py",
   "mimetype": "text/x-python",
   "name": "python",
   "nbconvert_exporter": "python",
   "pygments_lexer": "ipython3",
   "version": "3.11.4"
  }
 },
 "nbformat": 4,
 "nbformat_minor": 5
}
