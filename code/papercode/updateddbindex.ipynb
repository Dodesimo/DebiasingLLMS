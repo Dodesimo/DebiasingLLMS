{
 "cells": [
  {
   "cell_type": "markdown",
   "id": "60ae3694-92ef-493d-b261-63c6a908ad99",
   "metadata": {},
   "source": [
    "<h1>The new db-index: using clustering and semantic homogenity</h1>"
   ]
  },
  {
   "cell_type": "code",
   "execution_count": 39,
   "id": "ae626524-172f-4ff4-a3df-f47f8fbc3d84",
   "metadata": {},
   "outputs": [],
   "source": [
    "from datasets import load_dataset\n",
    "import spacy as sp\n",
    "import pandas as pd\n",
    "import numpy as np\n",
    "import en_core_web_lg\n",
    "from sklearn.cluster import KMeans\n",
    "from sklearn.feature_extraction.text import TfidfVectorizer"
   ]
  },
  {
   "cell_type": "code",
   "execution_count": 18,
   "id": "de36b55c-b97c-47d4-8507-2b17acbafbbf",
   "metadata": {},
   "outputs": [],
   "source": [
    "nlp = en_core_web_lg.load()"
   ]
  },
  {
   "cell_type": "code",
   "execution_count": 120,
   "id": "9a2e480a-e76c-4c0a-a200-6b3fcd9fc3c9",
   "metadata": {},
   "outputs": [],
   "source": [
    "testdataset = load_dataset(\"DevamMondal/dbindexdemo\")\n",
    "testdataset.set_format(type=\"pandas\")\n",
    "testdataset = pd.DataFrame(testdataset['train'][:])"
   ]
  },
  {
   "cell_type": "markdown",
   "id": "18dfa1f8-637c-4b4f-b487-b38af6744b43",
   "metadata": {},
   "source": [
    "Vectorized text using word emebddings through SpaCy"
   ]
  },
  {
   "cell_type": "code",
   "execution_count": 121,
   "id": "138aa322-709e-48df-9996-206843125fe0",
   "metadata": {},
   "outputs": [
    {
     "data": {
      "text/html": [
       "<div>\n",
       "<style scoped>\n",
       "    .dataframe tbody tr th:only-of-type {\n",
       "        vertical-align: middle;\n",
       "    }\n",
       "\n",
       "    .dataframe tbody tr th {\n",
       "        vertical-align: top;\n",
       "    }\n",
       "\n",
       "    .dataframe thead th {\n",
       "        text-align: right;\n",
       "    }\n",
       "</style>\n",
       "<table border=\"1\" class=\"dataframe\">\n",
       "  <thead>\n",
       "    <tr style=\"text-align: right;\">\n",
       "      <th></th>\n",
       "      <th>report</th>\n",
       "      <th>vectors</th>\n",
       "    </tr>\n",
       "  </thead>\n",
       "  <tbody>\n",
       "    <tr>\n",
       "      <th>0</th>\n",
       "      <td>\"This political candidate is clearly the best ...</td>\n",
       "      <td>[-0.9651882, 2.2312863, -0.6606929, -0.2265092...</td>\n",
       "    </tr>\n",
       "    <tr>\n",
       "      <th>1</th>\n",
       "      <td>\"This company always produces top-quality prod...</td>\n",
       "      <td>[-1.1817936, 0.8873633, 0.098376654, 1.8417091...</td>\n",
       "    </tr>\n",
       "    <tr>\n",
       "      <th>2</th>\n",
       "      <td>\"The experiment results indicate a 20% increas...</td>\n",
       "      <td>[-3.2654548, -0.25928292, -0.5695937, 2.879466...</td>\n",
       "    </tr>\n",
       "    <tr>\n",
       "      <th>3</th>\n",
       "      <td>\"According to the survey, 70% of respondents p...</td>\n",
       "      <td>[-4.600674, -0.12548637, 0.01597282, 2.4468849...</td>\n",
       "    </tr>\n",
       "    <tr>\n",
       "      <th>4</th>\n",
       "      <td>\"The research findings suggest a correlation b...</td>\n",
       "      <td>[-0.80799526, 0.95509624, -0.2872335, 0.461630...</td>\n",
       "    </tr>\n",
       "  </tbody>\n",
       "</table>\n",
       "</div>"
      ],
      "text/plain": [
       "                                              report  \\\n",
       "0  \"This political candidate is clearly the best ...   \n",
       "1  \"This company always produces top-quality prod...   \n",
       "2  \"The experiment results indicate a 20% increas...   \n",
       "3  \"According to the survey, 70% of respondents p...   \n",
       "4  \"The research findings suggest a correlation b...   \n",
       "\n",
       "                                             vectors  \n",
       "0  [-0.9651882, 2.2312863, -0.6606929, -0.2265092...  \n",
       "1  [-1.1817936, 0.8873633, 0.098376654, 1.8417091...  \n",
       "2  [-3.2654548, -0.25928292, -0.5695937, 2.879466...  \n",
       "3  [-4.600674, -0.12548637, 0.01597282, 2.4468849...  \n",
       "4  [-0.80799526, 0.95509624, -0.2872335, 0.461630...  "
      ]
     },
     "execution_count": 121,
     "metadata": {},
     "output_type": "execute_result"
    }
   ],
   "source": [
    "testdataset[\"vectors\"] = testdataset['report'].apply(nlp).apply(lambda x : x.vector)\n",
    "testdataset"
   ]
  },
  {
   "cell_type": "code",
   "execution_count": 143,
   "id": "c1683a28-e317-4edf-826c-9817a9477030",
   "metadata": {},
   "outputs": [],
   "source": [
    "vectors = pd.DataFrame(testdataset['vectors'])\n",
    "for index, row in vectors.iterrows():\n",
    "    row[0].astype(np.float16)"
   ]
  },
  {
   "cell_type": "code",
   "execution_count": 149,
   "id": "d58cb711-f872-404e-b323-1e0fef376879",
   "metadata": {},
   "outputs": [
    {
     "data": {
      "text/plain": [
       "0    [-0.9651882, 2.2312863, -0.6606929, -0.2265092...\n",
       "1    [-1.1817936, 0.8873633, 0.098376654, 1.8417091...\n",
       "2    [-3.2654548, -0.25928292, -0.5695937, 2.879466...\n",
       "3    [-4.600674, -0.12548637, 0.01597282, 2.4468849...\n",
       "4    [-0.80799526, 0.95509624, -0.2872335, 0.461630...\n",
       "Name: vectors, dtype: object"
      ]
     },
     "execution_count": 149,
     "metadata": {},
     "output_type": "execute_result"
    }
   ],
   "source": [
    "vectors['vectors']"
   ]
  },
  {
   "cell_type": "code",
   "execution_count": 191,
   "id": "eb7c3365-24bc-4a1c-bca1-2a248985c0c8",
   "metadata": {},
   "outputs": [],
   "source": [
    "v = testdataset['vectors'].values.tolist()"
   ]
  },
  {
   "cell_type": "code",
   "execution_count": 192,
   "id": "04603e3c-e0c1-4fd2-97ad-eb9c13b09b30",
   "metadata": {},
   "outputs": [],
   "source": [
    "km = KMeans(n_clusters=4, random_state=0, n_init=\"auto\").fit(v)"
   ]
  },
  {
   "cell_type": "markdown",
   "id": "3a785cbf-fbf3-4771-8580-ee7208d92a2e",
   "metadata": {},
   "source": [
    "Clustering algorithm complete"
   ]
  },
  {
   "cell_type": "code",
   "execution_count": 195,
   "id": "099fa2bf-7ab5-4134-8fa4-2a8ae4dae4f7",
   "metadata": {},
   "outputs": [
    {
     "data": {
      "text/plain": [
       "array([1, 1, 0, 2, 3], dtype=int32)"
      ]
     },
     "execution_count": 195,
     "metadata": {},
     "output_type": "execute_result"
    }
   ],
   "source": [
    "#find labels for each element\n",
    "km.labels_"
   ]
  },
  {
   "cell_type": "code",
   "execution_count": null,
   "id": "83e9565f-f17d-4529-9a1c-00ff730c52f6",
   "metadata": {},
   "outputs": [],
   "source": []
  }
 ],
 "metadata": {
  "kernelspec": {
   "display_name": "Python 3.8 (ipykernel)",
   "language": "python",
   "name": "python3"
  },
  "language_info": {
   "codemirror_mode": {
    "name": "ipython",
    "version": 3
   },
   "file_extension": ".py",
   "mimetype": "text/x-python",
   "name": "python",
   "nbconvert_exporter": "python",
   "pygments_lexer": "ipython3",
   "version": "3.8.16"
  }
 },
 "nbformat": 4,
 "nbformat_minor": 5
}
