{
 "cells": [
  {
   "cell_type": "markdown",
   "id": "60ae3694-92ef-493d-b261-63c6a908ad99",
   "metadata": {},
   "source": [
    "<h1>The new db-index: using clustering and semantic homogenity</h1>"
   ]
  },
  {
   "cell_type": "code",
   "execution_count": 249,
   "id": "ae626524-172f-4ff4-a3df-f47f8fbc3d84",
   "metadata": {},
   "outputs": [],
   "source": [
    "from datasets import load_dataset\n",
    "import random\n",
    "import spacy as sp\n",
    "import pandas as pd\n",
    "import numpy as np\n",
    "import en_core_web_lg\n",
    "from sklearn.cluster import KMeans\n",
    "from sklearn.feature_extraction.text import TfidfVectorizer\n",
    "from sklearn import svm\n",
    "from sklearn.model_selection import GridSearchCV"
   ]
  },
  {
   "cell_type": "code",
   "execution_count": 18,
   "id": "de36b55c-b97c-47d4-8507-2b17acbafbbf",
   "metadata": {},
   "outputs": [],
   "source": [
    "nlp = en_core_web_lg.load()"
   ]
  },
  {
   "cell_type": "code",
   "execution_count": 120,
   "id": "9a2e480a-e76c-4c0a-a200-6b3fcd9fc3c9",
   "metadata": {},
   "outputs": [],
   "source": [
    "testdataset = load_dataset(\"DevamMondal/dbindexdemo\")\n",
    "testdataset.set_format(type=\"pandas\")\n",
    "testdataset = pd.DataFrame(testdataset['train'][:])"
   ]
  },
  {
   "cell_type": "markdown",
   "id": "18dfa1f8-637c-4b4f-b487-b38af6744b43",
   "metadata": {},
   "source": [
    "Vectorized text using word emebddings through SpaCy"
   ]
  },
  {
   "cell_type": "code",
   "execution_count": 121,
   "id": "138aa322-709e-48df-9996-206843125fe0",
   "metadata": {},
   "outputs": [
    {
     "data": {
      "text/html": [
       "<div>\n",
       "<style scoped>\n",
       "    .dataframe tbody tr th:only-of-type {\n",
       "        vertical-align: middle;\n",
       "    }\n",
       "\n",
       "    .dataframe tbody tr th {\n",
       "        vertical-align: top;\n",
       "    }\n",
       "\n",
       "    .dataframe thead th {\n",
       "        text-align: right;\n",
       "    }\n",
       "</style>\n",
       "<table border=\"1\" class=\"dataframe\">\n",
       "  <thead>\n",
       "    <tr style=\"text-align: right;\">\n",
       "      <th></th>\n",
       "      <th>report</th>\n",
       "      <th>vectors</th>\n",
       "    </tr>\n",
       "  </thead>\n",
       "  <tbody>\n",
       "    <tr>\n",
       "      <th>0</th>\n",
       "      <td>\"This political candidate is clearly the best ...</td>\n",
       "      <td>[-0.9651882, 2.2312863, -0.6606929, -0.2265092...</td>\n",
       "    </tr>\n",
       "    <tr>\n",
       "      <th>1</th>\n",
       "      <td>\"This company always produces top-quality prod...</td>\n",
       "      <td>[-1.1817936, 0.8873633, 0.098376654, 1.8417091...</td>\n",
       "    </tr>\n",
       "    <tr>\n",
       "      <th>2</th>\n",
       "      <td>\"The experiment results indicate a 20% increas...</td>\n",
       "      <td>[-3.2654548, -0.25928292, -0.5695937, 2.879466...</td>\n",
       "    </tr>\n",
       "    <tr>\n",
       "      <th>3</th>\n",
       "      <td>\"According to the survey, 70% of respondents p...</td>\n",
       "      <td>[-4.600674, -0.12548637, 0.01597282, 2.4468849...</td>\n",
       "    </tr>\n",
       "    <tr>\n",
       "      <th>4</th>\n",
       "      <td>\"The research findings suggest a correlation b...</td>\n",
       "      <td>[-0.80799526, 0.95509624, -0.2872335, 0.461630...</td>\n",
       "    </tr>\n",
       "  </tbody>\n",
       "</table>\n",
       "</div>"
      ],
      "text/plain": [
       "                                              report  \\\n",
       "0  \"This political candidate is clearly the best ...   \n",
       "1  \"This company always produces top-quality prod...   \n",
       "2  \"The experiment results indicate a 20% increas...   \n",
       "3  \"According to the survey, 70% of respondents p...   \n",
       "4  \"The research findings suggest a correlation b...   \n",
       "\n",
       "                                             vectors  \n",
       "0  [-0.9651882, 2.2312863, -0.6606929, -0.2265092...  \n",
       "1  [-1.1817936, 0.8873633, 0.098376654, 1.8417091...  \n",
       "2  [-3.2654548, -0.25928292, -0.5695937, 2.879466...  \n",
       "3  [-4.600674, -0.12548637, 0.01597282, 2.4468849...  \n",
       "4  [-0.80799526, 0.95509624, -0.2872335, 0.461630...  "
      ]
     },
     "execution_count": 121,
     "metadata": {},
     "output_type": "execute_result"
    }
   ],
   "source": [
    "testdataset[\"vectors\"] = testdataset['report'].apply(nlp).apply(lambda x : x.vector)\n",
    "testdataset"
   ]
  },
  {
   "cell_type": "code",
   "execution_count": 143,
   "id": "c1683a28-e317-4edf-826c-9817a9477030",
   "metadata": {},
   "outputs": [],
   "source": [
    "vectors = pd.DataFrame(testdataset['vectors'])\n",
    "for index, row in vectors.iterrows():\n",
    "    row[0].astype(np.float16)"
   ]
  },
  {
   "cell_type": "code",
   "execution_count": 149,
   "id": "d58cb711-f872-404e-b323-1e0fef376879",
   "metadata": {},
   "outputs": [
    {
     "data": {
      "text/plain": [
       "0    [-0.9651882, 2.2312863, -0.6606929, -0.2265092...\n",
       "1    [-1.1817936, 0.8873633, 0.098376654, 1.8417091...\n",
       "2    [-3.2654548, -0.25928292, -0.5695937, 2.879466...\n",
       "3    [-4.600674, -0.12548637, 0.01597282, 2.4468849...\n",
       "4    [-0.80799526, 0.95509624, -0.2872335, 0.461630...\n",
       "Name: vectors, dtype: object"
      ]
     },
     "execution_count": 149,
     "metadata": {},
     "output_type": "execute_result"
    }
   ],
   "source": [
    "vectors['vectors']"
   ]
  },
  {
   "cell_type": "code",
   "execution_count": 191,
   "id": "eb7c3365-24bc-4a1c-bca1-2a248985c0c8",
   "metadata": {},
   "outputs": [],
   "source": [
    "v = testdataset['vectors'].values.tolist()"
   ]
  },
  {
   "cell_type": "code",
   "execution_count": 192,
   "id": "04603e3c-e0c1-4fd2-97ad-eb9c13b09b30",
   "metadata": {},
   "outputs": [],
   "source": [
    "km = KMeans(n_clusters=4, random_state=0, n_init=\"auto\").fit(v)"
   ]
  },
  {
   "cell_type": "markdown",
   "id": "3a785cbf-fbf3-4771-8580-ee7208d92a2e",
   "metadata": {},
   "source": [
    "Clustering algorithm complete"
   ]
  },
  {
   "cell_type": "code",
   "execution_count": 198,
   "id": "099fa2bf-7ab5-4134-8fa4-2a8ae4dae4f7",
   "metadata": {},
   "outputs": [],
   "source": [
    "#find labels for each element, add it to dataframe\n",
    "testdataset['clusters'] = km.labels_"
   ]
  },
  {
   "cell_type": "code",
   "execution_count": 242,
   "id": "83e9565f-f17d-4529-9a1c-00ff730c52f6",
   "metadata": {},
   "outputs": [
    {
     "data": {
      "text/html": [
       "<div>\n",
       "<style scoped>\n",
       "    .dataframe tbody tr th:only-of-type {\n",
       "        vertical-align: middle;\n",
       "    }\n",
       "\n",
       "    .dataframe tbody tr th {\n",
       "        vertical-align: top;\n",
       "    }\n",
       "\n",
       "    .dataframe thead th {\n",
       "        text-align: right;\n",
       "    }\n",
       "</style>\n",
       "<table border=\"1\" class=\"dataframe\">\n",
       "  <thead>\n",
       "    <tr style=\"text-align: right;\">\n",
       "      <th></th>\n",
       "      <th>report</th>\n",
       "      <th>vectors</th>\n",
       "      <th>clusters</th>\n",
       "    </tr>\n",
       "  </thead>\n",
       "  <tbody>\n",
       "    <tr>\n",
       "      <th>0</th>\n",
       "      <td>\"This political candidate is clearly the best ...</td>\n",
       "      <td>[-0.9651882, 2.2312863, -0.6606929, -0.2265092...</td>\n",
       "      <td>1</td>\n",
       "    </tr>\n",
       "    <tr>\n",
       "      <th>1</th>\n",
       "      <td>\"This company always produces top-quality prod...</td>\n",
       "      <td>[-1.1817936, 0.8873633, 0.098376654, 1.8417091...</td>\n",
       "      <td>1</td>\n",
       "    </tr>\n",
       "    <tr>\n",
       "      <th>2</th>\n",
       "      <td>\"The experiment results indicate a 20% increas...</td>\n",
       "      <td>[-3.2654548, -0.25928292, -0.5695937, 2.879466...</td>\n",
       "      <td>0</td>\n",
       "    </tr>\n",
       "    <tr>\n",
       "      <th>3</th>\n",
       "      <td>\"According to the survey, 70% of respondents p...</td>\n",
       "      <td>[-4.600674, -0.12548637, 0.01597282, 2.4468849...</td>\n",
       "      <td>2</td>\n",
       "    </tr>\n",
       "    <tr>\n",
       "      <th>4</th>\n",
       "      <td>\"The research findings suggest a correlation b...</td>\n",
       "      <td>[-0.80799526, 0.95509624, -0.2872335, 0.461630...</td>\n",
       "      <td>3</td>\n",
       "    </tr>\n",
       "  </tbody>\n",
       "</table>\n",
       "</div>"
      ],
      "text/plain": [
       "                                              report  \\\n",
       "0  \"This political candidate is clearly the best ...   \n",
       "1  \"This company always produces top-quality prod...   \n",
       "2  \"The experiment results indicate a 20% increas...   \n",
       "3  \"According to the survey, 70% of respondents p...   \n",
       "4  \"The research findings suggest a correlation b...   \n",
       "\n",
       "                                             vectors  clusters  \n",
       "0  [-0.9651882, 2.2312863, -0.6606929, -0.2265092...         1  \n",
       "1  [-1.1817936, 0.8873633, 0.098376654, 1.8417091...         1  \n",
       "2  [-3.2654548, -0.25928292, -0.5695937, 2.879466...         0  \n",
       "3  [-4.600674, -0.12548637, 0.01597282, 2.4468849...         2  \n",
       "4  [-0.80799526, 0.95509624, -0.2872335, 0.461630...         3  "
      ]
     },
     "execution_count": 242,
     "metadata": {},
     "output_type": "execute_result"
    }
   ],
   "source": [
    "testdataset"
   ]
  },
  {
   "cell_type": "markdown",
   "id": "5c5be44d-8239-4c88-8bd9-3b6a57ec1b51",
   "metadata": {},
   "source": [
    "create clusters and add text"
   ]
  },
  {
   "cell_type": "code",
   "execution_count": 228,
   "id": "f19d4098-236c-4cf3-bf40-34ccbd46a844",
   "metadata": {},
   "outputs": [],
   "source": [
    "lists = [[] for _ in range(testdataset['clusters'].nunique())]\n",
    "for index, row in testdataset.iterrows():\n",
    "    lists[row[2]].append(row[0])"
   ]
  },
  {
   "cell_type": "code",
   "execution_count": 229,
   "id": "da906130-33ee-4bc8-b33e-058b3550b151",
   "metadata": {},
   "outputs": [
    {
     "data": {
      "text/plain": [
       "[['\"The experiment results indicate a 20% increase in productivity.\" '],\n",
       " ['\"This political candidate is clearly the best choice for our country.\"',\n",
       "  '\"This company always produces top-quality products, unlike its competitors.\" '],\n",
       " ['\"According to the survey, 70% of respondents prefer option A.\" '],\n",
       " ['\"The research findings suggest a correlation between diet and heart health.\"']]"
      ]
     },
     "execution_count": 229,
     "metadata": {},
     "output_type": "execute_result"
    }
   ],
   "source": [
    "lists"
   ]
  },
  {
   "cell_type": "markdown",
   "id": "57742f07-8014-4b09-8fa3-cf0b7cbe8dac",
   "metadata": {},
   "source": [
    "then use mb-index on all five"
   ]
  },
  {
   "cell_type": "markdown",
   "id": "edca25f5-c012-451b-bf14-32e41faeb7ae",
   "metadata": {},
   "source": [
    "but what if we need to figure out how many clusters to use, we can use GridSearchCV"
   ]
  },
  {
   "cell_type": "code",
   "execution_count": 243,
   "id": "a1f189cb-2d1c-446f-bd75-cc68b9ea3d33",
   "metadata": {},
   "outputs": [
    {
     "name": "stdout",
     "output_type": "stream",
     "text": [
      "1.0\n",
      "{'n_clusters': 1}\n",
      "KMeans(n_clusters=1, n_init='auto', random_state=0)\n"
     ]
    },
    {
     "data": {
      "text/plain": [
       "1"
      ]
     },
     "execution_count": 243,
     "metadata": {},
     "output_type": "execute_result"
    }
   ],
   "source": [
    "param_grid = {\"n_clusters\": range(1,5)}\n",
    "\n",
    "grid = GridSearchCV(km, param_grid, scoring = 'adjusted_mutual_info_score')\n",
    "grid.fit(v,testdataset['clusters'])\n",
    "\n",
    "print (grid.best_score_)\n",
    "print (grid.best_params_)\n",
    "print (grid.best_estimator_)\n",
    "grid.best_params_['n_clusters']"
   ]
  },
  {
   "cell_type": "markdown",
   "id": "73be517f-12a2-4124-9128-1f85f4b7adf1",
   "metadata": {},
   "source": [
    "therefore:"
   ]
  },
  {
   "cell_type": "code",
   "execution_count": 258,
   "id": "6b956267-258b-459d-8d12-f1d0c6a25c39",
   "metadata": {},
   "outputs": [],
   "source": [
    "#assuming that both datasets passed in are already dataframes \n",
    "def dbindex(target, comparison):\n",
    "    #load in spaCy pipeline\n",
    "    nlp = en_core_web_lg.load()\n",
    "    \n",
    "    #Pick a random entry from the comparison dataset.\n",
    "    index = random.randrange(0, len(comparison), 1)\n",
    "\n",
    "    #Find that entry.\n",
    "    comparisonEntry = comparison['sentence'][index]\n",
    "    \n",
    "    #Vectoritze entry.\n",
    "    vectorizedComparisonEntry = nlp(comparisonEntry)\n",
    "    \n",
    "    #vectorize all entries in target dataset using above pipeline and add to the dataset\n",
    "    target[\"vectors\"] = target[target.columns[0]].apply(nlp).apply(lambda x : x.vector)\n",
    "    \n",
    "    #get list of vectors\n",
    "    v = testdataset['vectors'].values.tolist()\n",
    "    \n",
    "    #run initial k-means\n",
    "    km = KMeans(n_clusters=4, random_state=0, n_init=\"auto\").fit(v)\n",
    "    \n",
    "    #use grid search to optimize number of clusters\n",
    "    param_grid = {\"n_clusters\": range(1,5)}\n",
    "    grid = GridSearchCV(km, param_grid, scoring = 'adjusted_mutual_info_score')\n",
    "    grid.fit(v,testdataset['clusters'])\n",
    "\n",
    "    #rerun k-means clustering\n",
    "    km = KMeans(n_clusters=grid.best_params_['n_clusters'], random_state=0, n_init=\"auto\").fit(v)\n",
    "    \n",
    "    #find labels for each element, add it to dataframe\n",
    "    testdataset['clusters'] = km.labels_\n",
    "    \n",
    "    #create list for each cluster\n",
    "    clusters = [[] for _ in range(testdataset['clusters'].nunique())]\n",
    "\n",
    "    #add sentence to respective cluster\n",
    "    for index, row in testdataset.iterrows():\n",
    "        clusters[row[2]].append(row[0])\n",
    "        \n",
    "    #initialize list of cosine similarities\n",
    "    tcossim = []\n",
    "    \n",
    "    for cluster in clusters:\n",
    "        \n",
    "        #initialize cluster total cosine simliarity\n",
    "        ccossim = 0\n",
    "        \n",
    "        #iterate through each sentence in a cluster (list) \n",
    "        for sentence in cluster: \n",
    "            vecSentence = nlp(sentence)\n",
    "            ccossim += vecSentence.similarity(vectorizedomparisonEntry)\n",
    "        \n",
    "        tcossim.append(ccossim/len(cluster))\n",
    "        \n",
    "    return (tcossim/len(clusters))"
   ]
  },
  {
   "cell_type": "code",
   "execution_count": 259,
   "id": "7ee5f576-6bdb-49ad-a0ae-9afbd5a2a0f2",
   "metadata": {},
   "outputs": [],
   "source": [
    "offensivedataset = load_dataset(\"henryscheible/implicit_bias\")\n",
    "offensivedataset.set_format(type='pandas')\n",
    "compdataset = offensivedataset['train'][1:]\n",
    "compdataset = compdataset.drop(['category', 'label'], axis = 1)"
   ]
  },
  {
   "cell_type": "code",
   "execution_count": 260,
   "id": "c64fa843-975f-4f49-b59a-4e472aa2af41",
   "metadata": {},
   "outputs": [
    {
     "ename": "AttributeError",
     "evalue": "'str' object has no attribute 'vector_norm'",
     "output_type": "error",
     "traceback": [
      "\u001b[0;31m---------------------------------------------------------------------------\u001b[0m",
      "\u001b[0;31mAttributeError\u001b[0m                            Traceback (most recent call last)",
      "Cell \u001b[0;32mIn[260], line 1\u001b[0m\n\u001b[0;32m----> 1\u001b[0m \u001b[43mdbindex\u001b[49m\u001b[43m(\u001b[49m\u001b[43mtestdataset\u001b[49m\u001b[43m,\u001b[49m\u001b[43m \u001b[49m\u001b[43mcompdataset\u001b[49m\u001b[43m)\u001b[49m\n",
      "Cell \u001b[0;32mIn[258], line 53\u001b[0m, in \u001b[0;36mdbindex\u001b[0;34m(target, comparison)\u001b[0m\n\u001b[1;32m     51\u001b[0m     \u001b[38;5;28;01mfor\u001b[39;00m sentence \u001b[38;5;129;01min\u001b[39;00m cluster: \n\u001b[1;32m     52\u001b[0m         vecSentence \u001b[38;5;241m=\u001b[39m nlp(sentence)\n\u001b[0;32m---> 53\u001b[0m         ccossim \u001b[38;5;241m+\u001b[39m\u001b[38;5;241m=\u001b[39m \u001b[43mvecSentence\u001b[49m\u001b[38;5;241;43m.\u001b[39;49m\u001b[43msimilarity\u001b[49m\u001b[43m(\u001b[49m\u001b[43mcomparisonEntry\u001b[49m\u001b[43m)\u001b[49m\n\u001b[1;32m     55\u001b[0m     tcossim\u001b[38;5;241m.\u001b[39mappend(ccossim\u001b[38;5;241m/\u001b[39m\u001b[38;5;28mlen\u001b[39m(cluster))\n\u001b[1;32m     57\u001b[0m \u001b[38;5;28;01mreturn\u001b[39;00m (tcossim\u001b[38;5;241m/\u001b[39m\u001b[38;5;28mlen\u001b[39m(clusters))\n",
      "File \u001b[0;32m~/.local/lib/python3.8/site-packages/spacy/tokens/doc.pyx:642\u001b[0m, in \u001b[0;36mspacy.tokens.doc.Doc.similarity\u001b[0;34m()\u001b[0m\n",
      "\u001b[0;31mAttributeError\u001b[0m: 'str' object has no attribute 'vector_norm'"
     ]
    }
   ],
   "source": [
    "dbindex(testdataset, compdataset)"
   ]
  },
  {
   "cell_type": "code",
   "execution_count": 257,
   "id": "7b8ed7ae-0a31-440a-99eb-2edd7c2e26c7",
   "metadata": {},
   "outputs": [
    {
     "data": {
      "text/plain": [
       "brown"
      ]
     },
     "execution_count": 257,
     "metadata": {},
     "output_type": "execute_result"
    }
   ],
   "source": [
    "sentence = 'The brown dog jumps over the lazy frog'\n",
    "vecSentence = nlp(sentence)\n",
    "vecSentence[1]"
   ]
  },
  {
   "cell_type": "code",
   "execution_count": null,
   "id": "27159295-4de9-4fa2-8f3f-a226b2198496",
   "metadata": {},
   "outputs": [],
   "source": []
  }
 ],
 "metadata": {
  "kernelspec": {
   "display_name": "Python 3.8 (ipykernel)",
   "language": "python",
   "name": "python3"
  },
  "language_info": {
   "codemirror_mode": {
    "name": "ipython",
    "version": 3
   },
   "file_extension": ".py",
   "mimetype": "text/x-python",
   "name": "python",
   "nbconvert_exporter": "python",
   "pygments_lexer": "ipython3",
   "version": "3.8.16"
  }
 },
 "nbformat": 4,
 "nbformat_minor": 5
}
