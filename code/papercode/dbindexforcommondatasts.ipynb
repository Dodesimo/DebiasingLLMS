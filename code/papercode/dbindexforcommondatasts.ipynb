{
 "cells": [
  {
   "cell_type": "code",
   "execution_count": 2,
   "id": "3c2c3e29-0636-4a62-b120-972cbcf48196",
   "metadata": {},
   "outputs": [],
   "source": [
    "from datasets import load_dataset\n",
    "import spacy as sp\n",
    "import random\n",
    "import en_core_web_lg\n",
    "import pandas as pd"
   ]
  },
  {
   "cell_type": "code",
   "execution_count": 3,
   "id": "eb30a60d-f502-4b9c-b688-7bbc2d63049b",
   "metadata": {},
   "outputs": [],
   "source": [
    "nlp = en_core_web_lg.load()"
   ]
  },
  {
   "cell_type": "code",
   "execution_count": 38,
   "id": "d55d9b99-a1d8-4c49-b94a-b686ffbdff98",
   "metadata": {},
   "outputs": [],
   "source": [
    "def dbindex(target, comparison):\n",
    "    #Pick a random entry from the comparison dataset.\n",
    "    index = random.randrange(0, len(comparison), 1)\n",
    "\n",
    "    #Find that entry.\n",
    "    comparisonEntry = comparison['sentence'][0]\n",
    "\n",
    "    #Vectoritze entry.\n",
    "    vectorizedComparisonEntry = nlp(comparisonEntry)\n",
    "\n",
    "    #initialitize\u0010 total cosine similarity\n",
    "    tcs = 0\n",
    "\n",
    "    for index, row in target.iterrows():\n",
    "        vecEntry = nlp(row[target.columns[0]])\n",
    "        tcs += vecEntry.similarity(vectorizedComparisonEntry)\n",
    "\n",
    "    #average out\n",
    "    dbi = tcs/len(target)\n",
    "    return dbi"
   ]
  },
  {
   "cell_type": "code",
   "execution_count": 5,
   "id": "731c2d14-020d-4233-b7cf-a716d269afe2",
   "metadata": {},
   "outputs": [
    {
     "data": {
      "application/vnd.jupyter.widget-view+json": {
       "model_id": "2f8cea468b0e4bb9a26b9d397397b5d8",
       "version_major": 2,
       "version_minor": 0
      },
      "text/plain": [
       "Downloading builder script:   0%|          | 0.00/4.31k [00:00<?, ?B/s]"
      ]
     },
     "metadata": {},
     "output_type": "display_data"
    },
    {
     "data": {
      "application/vnd.jupyter.widget-view+json": {
       "model_id": "4543580bd3f7487ca6257c576788fbc4",
       "version_major": 2,
       "version_minor": 0
      },
      "text/plain": [
       "Downloading metadata:   0%|          | 0.00/2.17k [00:00<?, ?B/s]"
      ]
     },
     "metadata": {},
     "output_type": "display_data"
    },
    {
     "data": {
      "application/vnd.jupyter.widget-view+json": {
       "model_id": "239491987641420c8db7c5f204f571cd",
       "version_major": 2,
       "version_minor": 0
      },
      "text/plain": [
       "Downloading readme:   0%|          | 0.00/7.59k [00:00<?, ?B/s]"
      ]
     },
     "metadata": {},
     "output_type": "display_data"
    },
    {
     "data": {
      "application/vnd.jupyter.widget-view+json": {
       "model_id": "6f09a707a2d14a6db6de4d4b043edcf5",
       "version_major": 2,
       "version_minor": 0
      },
      "text/plain": [
       "Downloading data:   0%|          | 0.00/84.1M [00:00<?, ?B/s]"
      ]
     },
     "metadata": {},
     "output_type": "display_data"
    },
    {
     "data": {
      "application/vnd.jupyter.widget-view+json": {
       "model_id": "2dda205bcef94103bc0ab73885779209",
       "version_major": 2,
       "version_minor": 0
      },
      "text/plain": [
       "Generating train split:   0%|          | 0/25000 [00:00<?, ? examples/s]"
      ]
     },
     "metadata": {},
     "output_type": "display_data"
    },
    {
     "data": {
      "application/vnd.jupyter.widget-view+json": {
       "model_id": "ef720c1dd67f449fbffd144e52fce4f7",
       "version_major": 2,
       "version_minor": 0
      },
      "text/plain": [
       "Generating test split:   0%|          | 0/25000 [00:00<?, ? examples/s]"
      ]
     },
     "metadata": {},
     "output_type": "display_data"
    },
    {
     "data": {
      "application/vnd.jupyter.widget-view+json": {
       "model_id": "91d5fa08bdee48e987a21c951e65cbf1",
       "version_major": 2,
       "version_minor": 0
      },
      "text/plain": [
       "Generating unsupervised split:   0%|          | 0/50000 [00:00<?, ? examples/s]"
      ]
     },
     "metadata": {},
     "output_type": "display_data"
    }
   ],
   "source": [
    "dataset1 = load_dataset(\"imdb\")"
   ]
  },
  {
   "cell_type": "code",
   "execution_count": 8,
   "id": "27938a6e-4025-4da1-87ec-bf2a85864bdf",
   "metadata": {},
   "outputs": [
    {
     "data": {
      "text/html": [
       "<div>\n",
       "<style scoped>\n",
       "    .dataframe tbody tr th:only-of-type {\n",
       "        vertical-align: middle;\n",
       "    }\n",
       "\n",
       "    .dataframe tbody tr th {\n",
       "        vertical-align: top;\n",
       "    }\n",
       "\n",
       "    .dataframe thead th {\n",
       "        text-align: right;\n",
       "    }\n",
       "</style>\n",
       "<table border=\"1\" class=\"dataframe\">\n",
       "  <thead>\n",
       "    <tr style=\"text-align: right;\">\n",
       "      <th></th>\n",
       "      <th>text</th>\n",
       "    </tr>\n",
       "  </thead>\n",
       "  <tbody>\n",
       "    <tr>\n",
       "      <th>0</th>\n",
       "      <td>\"I Am Curious: Yellow\" is a risible and preten...</td>\n",
       "    </tr>\n",
       "    <tr>\n",
       "      <th>1</th>\n",
       "      <td>If only to avoid making this type of film in t...</td>\n",
       "    </tr>\n",
       "    <tr>\n",
       "      <th>2</th>\n",
       "      <td>This film was probably inspired by Godard's Ma...</td>\n",
       "    </tr>\n",
       "    <tr>\n",
       "      <th>3</th>\n",
       "      <td>Oh, brother...after hearing about this ridicul...</td>\n",
       "    </tr>\n",
       "    <tr>\n",
       "      <th>4</th>\n",
       "      <td>I would put this at the top of my list of film...</td>\n",
       "    </tr>\n",
       "    <tr>\n",
       "      <th>...</th>\n",
       "      <td>...</td>\n",
       "    </tr>\n",
       "    <tr>\n",
       "      <th>24994</th>\n",
       "      <td>A hit at the time but now better categorised a...</td>\n",
       "    </tr>\n",
       "    <tr>\n",
       "      <th>24995</th>\n",
       "      <td>I love this movie like no other. Another time ...</td>\n",
       "    </tr>\n",
       "    <tr>\n",
       "      <th>24996</th>\n",
       "      <td>This film and it's sequel Barry Mckenzie holds...</td>\n",
       "    </tr>\n",
       "    <tr>\n",
       "      <th>24997</th>\n",
       "      <td>'The Adventures Of Barry McKenzie' started lif...</td>\n",
       "    </tr>\n",
       "    <tr>\n",
       "      <th>24998</th>\n",
       "      <td>The story centers around Barry McKenzie who mu...</td>\n",
       "    </tr>\n",
       "  </tbody>\n",
       "</table>\n",
       "<p>24999 rows × 1 columns</p>\n",
       "</div>"
      ],
      "text/plain": [
       "                                                    text\n",
       "0      \"I Am Curious: Yellow\" is a risible and preten...\n",
       "1      If only to avoid making this type of film in t...\n",
       "2      This film was probably inspired by Godard's Ma...\n",
       "3      Oh, brother...after hearing about this ridicul...\n",
       "4      I would put this at the top of my list of film...\n",
       "...                                                  ...\n",
       "24994  A hit at the time but now better categorised a...\n",
       "24995  I love this movie like no other. Another time ...\n",
       "24996  This film and it's sequel Barry Mckenzie holds...\n",
       "24997  'The Adventures Of Barry McKenzie' started lif...\n",
       "24998  The story centers around Barry McKenzie who mu...\n",
       "\n",
       "[24999 rows x 1 columns]"
      ]
     },
     "execution_count": 8,
     "metadata": {},
     "output_type": "execute_result"
    }
   ],
   "source": [
    "dataset1.set_format(type='pandas')\n",
    "targetdset = dataset1['train'][1:]\n",
    "targetdset = pd.DataFrame(targetdset['text'])\n",
    "targetdset"
   ]
  },
  {
   "cell_type": "code",
   "execution_count": 9,
   "id": "ce744433-ce5f-4718-b7be-1543f3e037cf",
   "metadata": {},
   "outputs": [
    {
     "data": {
      "text/html": [
       "<div>\n",
       "<style scoped>\n",
       "    .dataframe tbody tr th:only-of-type {\n",
       "        vertical-align: middle;\n",
       "    }\n",
       "\n",
       "    .dataframe tbody tr th {\n",
       "        vertical-align: top;\n",
       "    }\n",
       "\n",
       "    .dataframe thead th {\n",
       "        text-align: right;\n",
       "    }\n",
       "</style>\n",
       "<table border=\"1\" class=\"dataframe\">\n",
       "  <thead>\n",
       "    <tr style=\"text-align: right;\">\n",
       "      <th></th>\n",
       "      <th>sentence</th>\n",
       "    </tr>\n",
       "  </thead>\n",
       "  <tbody>\n",
       "    <tr>\n",
       "      <th>0</th>\n",
       "      <td>They are Asians. I don't want to invite too ma...</td>\n",
       "    </tr>\n",
       "    <tr>\n",
       "      <th>1</th>\n",
       "      <td>They are Queer. Why do all gay men have to be ...</td>\n",
       "    </tr>\n",
       "    <tr>\n",
       "      <th>2</th>\n",
       "      <td>They are OldPeople. All Middle Easterners are ...</td>\n",
       "    </tr>\n",
       "    <tr>\n",
       "      <th>3</th>\n",
       "      <td>They are Females. She's always so put together...</td>\n",
       "    </tr>\n",
       "    <tr>\n",
       "      <th>4</th>\n",
       "      <td>They are Christans. I don't understand how you...</td>\n",
       "    </tr>\n",
       "    <tr>\n",
       "      <th>...</th>\n",
       "      <td>...</td>\n",
       "    </tr>\n",
       "    <tr>\n",
       "      <th>1003</th>\n",
       "      <td>They are MiddleEastern. I saw a group of Middl...</td>\n",
       "    </tr>\n",
       "    <tr>\n",
       "      <th>1004</th>\n",
       "      <td>They are Asians. Oh, my grandpa doesn't even k...</td>\n",
       "    </tr>\n",
       "    <tr>\n",
       "      <th>1005</th>\n",
       "      <td>They are Queer. I can't believe she's still tr...</td>\n",
       "    </tr>\n",
       "    <tr>\n",
       "      <th>1006</th>\n",
       "      <td>They are Whites. Oh, you're white, so you prob...</td>\n",
       "    </tr>\n",
       "    <tr>\n",
       "      <th>1007</th>\n",
       "      <td>They are Christans. I heard that church is jus...</td>\n",
       "    </tr>\n",
       "  </tbody>\n",
       "</table>\n",
       "<p>1008 rows × 1 columns</p>\n",
       "</div>"
      ],
      "text/plain": [
       "                                               sentence\n",
       "0     They are Asians. I don't want to invite too ma...\n",
       "1     They are Queer. Why do all gay men have to be ...\n",
       "2     They are OldPeople. All Middle Easterners are ...\n",
       "3     They are Females. She's always so put together...\n",
       "4     They are Christans. I don't understand how you...\n",
       "...                                                 ...\n",
       "1003  They are MiddleEastern. I saw a group of Middl...\n",
       "1004  They are Asians. Oh, my grandpa doesn't even k...\n",
       "1005  They are Queer. I can't believe she's still tr...\n",
       "1006  They are Whites. Oh, you're white, so you prob...\n",
       "1007  They are Christans. I heard that church is jus...\n",
       "\n",
       "[1008 rows x 1 columns]"
      ]
     },
     "execution_count": 9,
     "metadata": {},
     "output_type": "execute_result"
    }
   ],
   "source": [
    "offensivedataset = load_dataset(\"henryscheible/implicit_bias\")\n",
    "offensivedataset.set_format(type='pandas')\n",
    "compdataset = offensivedataset['train'][1:]\n",
    "compdataset.drop(['category', 'label'], axis = 1)"
   ]
  },
  {
   "cell_type": "code",
   "execution_count": 58,
   "id": "725840fe-4256-42f0-ba50-ba8d51c69459",
   "metadata": {},
   "outputs": [
    {
     "data": {
      "text/plain": [
       "0.7907949483370598"
      ]
     },
     "execution_count": 58,
     "metadata": {},
     "output_type": "execute_result"
    }
   ],
   "source": [
    "index = dbindex(targetdset,compdataset)\n",
    "index"
   ]
  },
  {
   "cell_type": "markdown",
   "id": "c30638f5-08f4-4083-a3e1-81c9a3d1ebf0",
   "metadata": {},
   "source": [
    "IDMB dataset is biased "
   ]
  },
  {
   "cell_type": "markdown",
   "id": "d710b397-505b-47da-955f-d0325ae5410e",
   "metadata": {},
   "source": [
    "Toxic dataset"
   ]
  },
  {
   "cell_type": "code",
   "execution_count": null,
   "id": "9c4a9ea2-0485-48c6-a039-00046389dcc5",
   "metadata": {},
   "outputs": [],
   "source": []
  }
 ],
 "metadata": {
  "kernelspec": {
   "display_name": "Python 3.8 (ipykernel)",
   "language": "python",
   "name": "python3"
  },
  "language_info": {
   "codemirror_mode": {
    "name": "ipython",
    "version": 3
   },
   "file_extension": ".py",
   "mimetype": "text/x-python",
   "name": "python",
   "nbconvert_exporter": "python",
   "pygments_lexer": "ipython3",
   "version": "3.8.16"
  }
 },
 "nbformat": 4,
 "nbformat_minor": 5
}
