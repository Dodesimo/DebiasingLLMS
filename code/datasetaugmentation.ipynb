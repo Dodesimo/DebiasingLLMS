{
 "cells": [
  {
   "cell_type": "code",
   "execution_count": 3,
   "id": "initial_id",
   "metadata": {
    "is_executing": true
   },
   "outputs": [],
   "source": [
    "import pandas as pd\n",
    "import nlpaug.augmenter.char as nac\n",
    "import nlpaug.augmenter.word as naw\n",
    "import nlpaug.augmenter.sentence as nas\n",
    "import nlpaug.flow as nafc\n",
    "import torch\n",
    "import os\n",
    "from datasets import load_dataset \n",
    "from nlpaug.util import Action\n",
    "import spacy \n",
    "from spacy import displacy\n",
    "from langchain.agents import create_pandas_dataframe_agent, load_tools\n",
    "from langchain.llms import OpenAI\n",
    "from getpass import getpass"
   ]
  },
  {
   "cell_type": "code",
   "execution_count": 4,
   "id": "3c02f411545e016f",
   "metadata": {
    "collapsed": false,
    "jupyter": {
     "outputs_hidden": false
    }
   },
   "outputs": [],
   "source": [
    "text = \"I think that all African-Americans should deserve jail time.\""
   ]
  },
  {
   "cell_type": "code",
   "execution_count": 5,
   "id": "de6cfb7d-e445-4bb9-8867-10beae1698de",
   "metadata": {},
   "outputs": [
    {
     "name": "stdout",
     "output_type": "stream",
     "text": [
      "I think that all African-Americans should deserve jail time.\n"
     ]
    }
   ],
   "source": [
    "print(text)"
   ]
  },
  {
   "cell_type": "code",
   "execution_count": 6,
   "id": "8a4c8fb6-0d92-4699-9da5-e90b8c886f48",
   "metadata": {},
   "outputs": [
    {
     "data": {
      "text/plain": [
       "['African-Americans']"
      ]
     },
     "execution_count": 6,
     "metadata": {},
     "output_type": "execute_result"
    }
   ],
   "source": [
    "augmentor = naw.AntonymAug()\n",
    "augmentor.augment(text.split(\" \")[4])"
   ]
  },
  {
   "cell_type": "markdown",
   "id": "aa57e7ce-c92b-4985-aa11-4e87bf10d3a1",
   "metadata": {},
   "source": [
    "Both Synonym and Antonym augmentation do not work very well with race. Use embedding context"
   ]
  },
  {
   "cell_type": "code",
   "execution_count": 7,
   "id": "b4c81ce4-763b-4e34-bc40-6714bd95e882",
   "metadata": {},
   "outputs": [
    {
     "data": {
      "text/plain": [
       "['African-Americans']"
      ]
     },
     "execution_count": 7,
     "metadata": {},
     "output_type": "execute_result"
    }
   ],
   "source": [
    "aug = naw.ContextualWordEmbsAug(\n",
    "    model_path='roberta-base', action=\"substitute\")\n",
    "aug.augment(text.split(\" \")[4])"
   ]
  },
  {
   "cell_type": "markdown",
   "id": "6410e9d6-94f2-4461-a877-3d4fcb6a05ba",
   "metadata": {},
   "source": [
    "Not very successful; need to do it manually"
   ]
  },
  {
   "cell_type": "code",
   "execution_count": 62,
   "id": "0b9f7651-3933-4c9f-9370-4c04b9fa2daf",
   "metadata": {},
   "outputs": [
    {
     "name": "stdin",
     "output_type": "stream",
     "text": [
      "OpenAI Key: ········\n"
     ]
    }
   ],
   "source": [
    "os.environ['OPENAI_API_KEY'] = getpass(\"OpenAI Key:\")"
   ]
  },
  {
   "cell_type": "code",
   "execution_count": 65,
   "id": "2ea6aa85-dc25-48fd-9812-7e85c3dbd82d",
   "metadata": {},
   "outputs": [],
   "source": [
    "agent = OpenAI(temperature=0)"
   ]
  },
  {
   "cell_type": "code",
   "execution_count": null,
   "id": "6fd39e84-a390-4e3c-bb4d-39c82ce6cc12",
   "metadata": {},
   "outputs": [],
   "source": [
    "agent(\"generate 50 ethnicities and races\")"
   ]
  },
  {
   "cell_type": "code",
   "execution_count": 8,
   "id": "58e7a79f-cb80-4b49-9564-f2d6ccd5d93f",
   "metadata": {},
   "outputs": [],
   "source": [
    "bias_elements = [\n",
    "    \"African\",\n",
    "    \"Afro-Caribbean\",\n",
    "    \"Afro-Latino\",\n",
    "    \"Ainu\",\n",
    "    \"Amazigh\",\n",
    "    \"Ashkenazi Jewish\",\n",
    "    \"Australian Aboriginal\",\n",
    "    \"Basque\",\n",
    "    \"Bantu\",\n",
    "    \"Bengali\",\n",
    "    \"Berber\",\n",
    "    \"Black\",\n",
    "    \"Chinese\",\n",
    "    \"Cree\",\n",
    "    \"Cuban\",\n",
    "    \"Druze\",\n",
    "    \"Dutch\",\n",
    "    \"English\",\n",
    "    \"Filipino\",\n",
    "    \"Finnish\",\n",
    "    \"French\",\n",
    "    \"Gaelic\",\n",
    "    \"German\",\n",
    "    \"Greek\",\n",
    "    \"Guatemalan\",\n",
    "    \"Han Chinese\",\n",
    "    \"Hausa\",\n",
    "    \"Hawaiian\",\n",
    "    \"Hispanic/Latino\",\n",
    "    \"Hmong\",\n",
    "    \"Hopi\",\n",
    "    \"Inuit\",\n",
    "    \"Italian\",\n",
    "    \"Japanese\",\n",
    "    \"Jewish\",\n",
    "    \"Karen\",\n",
    "    \"Khmer\",\n",
    "    \"Korean\",\n",
    "    \"Maori\",\n",
    "    \"Maya\",\n",
    "    \"Mongolian\",\n",
    "    \"Native American\",\n",
    "    \"Nigerian\",\n",
    "    \"Nubian\",\n",
    "    \"Pashtun\",\n",
    "    \"Persian\",\n",
    "    \"Quechua\",\n",
    "    \"Romani\",\n",
    "    \"Sami\",\n",
    "    \"Somali\",\n",
    "    \"Tajik\",\n",
    "    \"Tamil\",\n",
    "    \"Tatar\",\n",
    "    \"Thai\",\n",
    "    \"Tibetan\",\n",
    "    \"Tuareg\",\n",
    "    \"Turkish\",\n",
    "    \"Uighur\",\n",
    "    \"Ukrainian\",\n",
    "    \"Vietnamese\",\n",
    "    \"Yakut\",\n",
    "    \"Yoruba\",\n",
    "    \"Zulu\",\n",
    "    \"Albanian\",\n",
    "    \"Arab\",\n",
    "    \"Armenian\",\n",
    "    \"Assyrian\",\n",
    "    \"Aymara\",\n",
    "    \"Balinese\",\n",
    "    \"Bashkir\",\n",
    "    \"Belizean\",\n",
    "    \"Bolivian\",\n",
    "    \"Bosniak\",\n",
    "    \"Bulgarian\",\n",
    "    \"Cambodian\",\n",
    "    \"Cameroonian\",\n",
    "    \"Catalan\",\n",
    "    \"Chamorro\",\n",
    "    \"Chechen\",\n",
    "    \"Cherokee\",\n",
    "    \"Chuvash\",\n",
    "    \"Coptic\",\n",
    "    \"Corsican\",\n",
    "    \"Crimean Tatar\",\n",
    "    \"Croatian\",\n",
    "    \"Czech\",\n",
    "    \"Danish\",\n",
    "    \"Dinka\",\n",
    "    \"Ecuadorian\",\n",
    "    \"Estonian\",\n",
    "    \"Ethiopian\",\n",
    "    \"Fijian\",\n",
    "    \"Georgian\",\n",
    "    \"Gujarati\",\n",
    "    \"Haitian\",\n",
    "    \"Hazaras\",\n",
    "    \"Ibo\",\n",
    "    \"Icelandic\",\n",
    "    \"Indigenous Australian\",\n",
    "    \"Indigenous Malaysian\",\n",
    "    \"Iraqi\",\n",
    "    \"Iroquois\",\n",
    "    \"Kurdish\",\n",
    "    \"Latvian\",\n",
    "    \"Lebanese\",\n",
    "    \"Lithuanian\",\n",
    "    \"Macedonian\",\n",
    "    \"Malay\",\n",
    "    \"Maldivian\",\n",
    "    \"Maltese\",\n",
    "    \"Maasai\",\n",
    "    \"Mende\",\n",
    "    \"Mien\",\n",
    "    \"Mizrahi Jewish\",\n",
    "    \"Monguor\",\n",
    "    \"Moroccan\",\n",
    "    \"Navajo\",\n",
    "    \"Nenets\",\n",
    "    \"Nepali\",\n",
    "    \"Norwegian\",\n",
    "    \"Pakistani\",\n",
    "    \"Palestinian\",\n",
    "    \"Papua New Guinean\",\n",
    "    \"Parsi\",\n",
    "    \"Peruvian\",\n",
    "    \"Polish\",\n",
    "    \"Portuguese\",\n",
    "    \"Punjabi\",\n",
    "    \"Roma\",\n",
    "    \"Samoan\",\n",
    "    \"Scots\",\n",
    "    \"Sindhi\",\n",
    "    \"Slovak\",\n",
    "    \"Slovene\",\n",
    "    \"Sorbian\",\n",
    "    \"Sudanese\",\n",
    "    \"Swedish\",\n",
    "]"
   ]
  },
  {
   "cell_type": "code",
   "execution_count": 9,
   "id": "339fe6f6-ec83-48e0-863a-111993bcf053",
   "metadata": {},
   "outputs": [
    {
     "data": {
      "text/plain": [
       "DatasetDict({\n",
       "    train: Dataset({\n",
       "        features: ['report', 'summary'],\n",
       "        num_rows: 17517\n",
       "    })\n",
       "    validation: Dataset({\n",
       "        features: ['report', 'summary'],\n",
       "        num_rows: 973\n",
       "    })\n",
       "    test: Dataset({\n",
       "        features: ['report', 'summary'],\n",
       "        num_rows: 973\n",
       "    })\n",
       "})"
      ]
     },
     "execution_count": 9,
     "metadata": {},
     "output_type": "execute_result"
    }
   ],
   "source": [
    "base_dataset = load_dataset(\"ccdv/govreport-summarization\")\n",
    "base_dataset"
   ]
  },
  {
   "cell_type": "markdown",
   "id": "3ddcd03e-b8eb-45b9-9024-b38aad5985dc",
   "metadata": {},
   "source": [
    "Procedure:\n",
    "- Iterate through each data entry, and do spaCy named entity recognition for race.\n",
    "- Once found, take entry, and copy in word from list of bias elements to generate new entry.\n",
    "- Each entry will then be augmented in size "
   ]
  },
  {
   "cell_type": "code",
   "execution_count": 10,
   "id": "d0fabfea-46c4-4b89-a526-0c17dfed026c",
   "metadata": {},
   "outputs": [],
   "source": [
    "ner = spacy.load(\"en_core_web_sm\")"
   ]
  },
  {
   "cell_type": "code",
   "execution_count": 11,
   "id": "0abb7f56-9a5a-4ae2-8a67-d97d84b95e31",
   "metadata": {},
   "outputs": [],
   "source": [
    "seg = ner(text)"
   ]
  },
  {
   "cell_type": "code",
   "execution_count": 12,
   "id": "8bdcf37c-c93e-43d8-b060-836409453a98",
   "metadata": {},
   "outputs": [
    {
     "name": "stdout",
     "output_type": "stream",
     "text": [
      "African-Americans NORP\n"
     ]
    }
   ],
   "source": [
    "for word in seg.ents:\n",
    "    print(word.text, word.label_)"
   ]
  },
  {
   "cell_type": "code",
   "execution_count": 13,
   "id": "ba9eac07-6576-403e-b397-4ee3705d51ab",
   "metadata": {},
   "outputs": [
    {
     "data": {
      "text/plain": [
       "'Nationalities or religious or political groups'"
      ]
     },
     "execution_count": 13,
     "metadata": {},
     "output_type": "execute_result"
    }
   ],
   "source": [
    "spacy.explain(\"NORP\")"
   ]
  },
  {
   "cell_type": "code",
   "execution_count": 22,
   "id": "1b4b66d1-a21d-4631-8354-c4eaa0cb0098",
   "metadata": {},
   "outputs": [],
   "source": [
    "base_dataset.set_format(type='pandas')\n",
    "\n",
    "df = base_dataset['train'][:]"
   ]
  },
  {
   "cell_type": "code",
   "execution_count": 27,
   "id": "61f29030-e602-458a-8fea-a13b84980798",
   "metadata": {},
   "outputs": [
    {
     "data": {
      "text/html": [
       "<div>\n",
       "<style scoped>\n",
       "    .dataframe tbody tr th:only-of-type {\n",
       "        vertical-align: middle;\n",
       "    }\n",
       "\n",
       "    .dataframe tbody tr th {\n",
       "        vertical-align: top;\n",
       "    }\n",
       "\n",
       "    .dataframe thead th {\n",
       "        text-align: right;\n",
       "    }\n",
       "</style>\n",
       "<table border=\"1\" class=\"dataframe\">\n",
       "  <thead>\n",
       "    <tr style=\"text-align: right;\">\n",
       "      <th></th>\n",
       "      <th>report</th>\n",
       "    </tr>\n",
       "  </thead>\n",
       "  <tbody>\n",
       "    <tr>\n",
       "      <th>0</th>\n",
       "      <td>The structure of the armed forces is based on ...</td>\n",
       "    </tr>\n",
       "    <tr>\n",
       "      <th>1</th>\n",
       "      <td>Most income derived from private sector busine...</td>\n",
       "    </tr>\n",
       "    <tr>\n",
       "      <th>2</th>\n",
       "      <td>There are some similarities in how Medicare pa...</td>\n",
       "    </tr>\n",
       "    <tr>\n",
       "      <th>3</th>\n",
       "      <td>IRS’s mission is to provide America’s taxpayer...</td>\n",
       "    </tr>\n",
       "    <tr>\n",
       "      <th>4</th>\n",
       "      <td>In 1991, we reported that, historically, INS l...</td>\n",
       "    </tr>\n",
       "    <tr>\n",
       "      <th>...</th>\n",
       "      <td>...</td>\n",
       "    </tr>\n",
       "    <tr>\n",
       "      <th>17512</th>\n",
       "      <td>Some Members of Congress have expressed intere...</td>\n",
       "    </tr>\n",
       "    <tr>\n",
       "      <th>17513</th>\n",
       "      <td>Since November 1986, the Commemorative Works A...</td>\n",
       "    </tr>\n",
       "    <tr>\n",
       "      <th>17514</th>\n",
       "      <td>On May 27, 2015, the Army Corps of Engineers (...</td>\n",
       "    </tr>\n",
       "    <tr>\n",
       "      <th>17515</th>\n",
       "      <td>Section 1512 applies to the obstruction of fed...</td>\n",
       "    </tr>\n",
       "    <tr>\n",
       "      <th>17516</th>\n",
       "      <td>Medicaid is a federal-state entitlement progra...</td>\n",
       "    </tr>\n",
       "  </tbody>\n",
       "</table>\n",
       "<p>17517 rows × 1 columns</p>\n",
       "</div>"
      ],
      "text/plain": [
       "                                                  report\n",
       "0      The structure of the armed forces is based on ...\n",
       "1      Most income derived from private sector busine...\n",
       "2      There are some similarities in how Medicare pa...\n",
       "3      IRS’s mission is to provide America’s taxpayer...\n",
       "4      In 1991, we reported that, historically, INS l...\n",
       "...                                                  ...\n",
       "17512  Some Members of Congress have expressed intere...\n",
       "17513  Since November 1986, the Commemorative Works A...\n",
       "17514  On May 27, 2015, the Army Corps of Engineers (...\n",
       "17515  Section 1512 applies to the obstruction of fed...\n",
       "17516  Medicaid is a federal-state entitlement progra...\n",
       "\n",
       "[17517 rows x 1 columns]"
      ]
     },
     "execution_count": 27,
     "metadata": {},
     "output_type": "execute_result"
    }
   ],
   "source": [
    "df.drop(['summary'], axis=1)"
   ]
  },
  {
   "cell_type": "code",
   "execution_count": null,
   "id": "0bd8d4a2-f6c0-40c8-b5fa-8716222e7415",
   "metadata": {},
   "outputs": [],
   "source": [
    "def raceDetection:\n",
    "    for entry in "
   ]
  }
 ],
 "metadata": {
  "kernelspec": {
   "display_name": "Python 3 (ipykernel)",
   "language": "python",
   "name": "python3"
  },
  "language_info": {
   "codemirror_mode": {
    "name": "ipython",
    "version": 3
   },
   "file_extension": ".py",
   "mimetype": "text/x-python",
   "name": "python",
   "nbconvert_exporter": "python",
   "pygments_lexer": "ipython3",
   "version": "3.11.4"
  }
 },
 "nbformat": 4,
 "nbformat_minor": 5
}
