


from datasets import load_dataset
import spacy as sp
import random


dataset = load_dataset("ccdv/govreport-summarization")
dataset


dataset.set_format(type='pandas')
targetdset = dataset['train'][1:]
targetdset.drop(['summary'], axis=1)





offensivedataset = load_dataset("henryscheible/implicit_bias")


offensivedataset.set_format(type='pandas')
compdataset = offensivedataset['train'][1:]
compdataset.drop(['category', 'label'], axis = 1)


def dbindex(target, comparison):
    #Pick a random entry from the comparison dataset.
    index = random.randrange(0, compdataset.size, 1)

    #Find that entry row.
    entry = target['sentence'][index]

    #initialitize total cosine similarity
    tcs = 0
    



