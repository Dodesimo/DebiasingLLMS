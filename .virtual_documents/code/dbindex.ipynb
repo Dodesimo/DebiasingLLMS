


from datasets import load_dataset
import spacy as sp


dataset = load_dataset("ccdv/govreport-summarization")
dataset


dataset.set_format(type='pandas')
targetdset = dataset['train'][1:]
targetdset.drop(['summary'], axis=1)





offensivedataset = load_dataset("henryscheible/implicit_bias")


offensivedataset.set_format(type='pandas')
compdataset = offensivedataset['train'][1:]
compdataset.drop(['category', 'label'], axis = 1)



