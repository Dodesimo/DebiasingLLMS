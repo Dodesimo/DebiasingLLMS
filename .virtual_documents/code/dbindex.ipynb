


from datasets import load_dataset


dataset = load_dataset("ccdv/govreport-summarization")
dataset


dataset.set_format(type='pandas')
targetdset = dataset['train'][1:]
targetdset.drop(['summary'], axis=1)





offensivedataset = 
