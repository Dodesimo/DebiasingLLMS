


def mbindex (glue, stereoset, dsetsize):
    return (2 * stereoset)/(dsetsize * stereoset)






